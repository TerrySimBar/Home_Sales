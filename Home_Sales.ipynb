{
 "cells": [
  {
   "cell_type": "code",
   "execution_count": 63,
   "metadata": {
    "colab": {
     "base_uri": "https://localhost:8080/"
    },
    "id": "a_KW73O2e3dw",
    "outputId": "fa5fd2b3-e2de-491b-ee1c-405317ba7ebc"
   },
   "outputs": [],
   "source": [
    "# Import findspark and initialize. \n",
    "import findspark\n",
    "findspark.init()"
   ]
  },
  {
   "cell_type": "code",
   "execution_count": 64,
   "metadata": {
    "id": "2XbWNf1Te5fM"
   },
   "outputs": [],
   "source": [
    "# Import packages\n",
    "import time\n",
    "from pyspark.sql import SparkSession\n",
    "from pyspark import SparkFiles\n",
    "spark = SparkSession.builder.appName(\"SparkSQL\").getOrCreate()\n",
    "\n",
    "# Set log level to ERROR to avoid inconsequential messages\n",
    "spark.sparkContext.setLogLevel(\"ERROR\")\n",
    "\n",
    "import warnings\n",
    "# Filter hostname resolution warning\n",
    "warnings.filterwarnings(\"ignore\", category=UserWarning, module=\"py4j.*\")"
   ]
  },
  {
   "cell_type": "code",
   "execution_count": 65,
   "metadata": {
    "colab": {
     "base_uri": "https://localhost:8080/"
    },
    "id": "wOJqxG_RPSwp",
    "outputId": "7857ef9f-5b04-405d-f5aa-e535dfe7870c"
   },
   "outputs": [
    {
     "name": "stdout",
     "output_type": "stream",
     "text": [
      "+--------------------+----------+----------+------+--------+---------+-----------+--------+------+----------+----+\n",
      "|                  id|      date|date_built| price|bedrooms|bathrooms|sqft_living|sqft_lot|floors|waterfront|view|\n",
      "+--------------------+----------+----------+------+--------+---------+-----------+--------+------+----------+----+\n",
      "|f8a53099-ba1c-47d...|2022-04-08|      2016|936923|       4|        3|       3167|   11733|     2|         1|  76|\n",
      "|7530a2d8-1ae3-451...|2021-06-13|      2013|379628|       2|        2|       2235|   14384|     1|         0|  23|\n",
      "|43de979c-0bf0-4c9...|2019-04-12|      2014|417866|       2|        2|       2127|   10575|     2|         0|   0|\n",
      "|b672c137-b88c-48b...|2019-10-16|      2016|239895|       2|        2|       1631|   11149|     2|         0|   0|\n",
      "|e0726d4d-d595-407...|2022-01-08|      2017|424418|       3|        2|       2249|   13878|     2|         0|   4|\n",
      "+--------------------+----------+----------+------+--------+---------+-----------+--------+------+----------+----+\n",
      "only showing top 5 rows\n",
      "\n"
     ]
    }
   ],
   "source": [
    "# 1. Read in the AWS S3 bucket into a DataFrame.\n",
    "url = \"https://2u-data-curriculum-team.s3.amazonaws.com/dataviz-classroom/v1.2/22-big-data/home_sales_revised.csv\"\n",
    "spark.sparkContext.addFile(url)\n",
    "home_sales_df = spark.read.csv(SparkFiles.get(\"home_sales_revised.csv\"), sep=\",\", header=True)\n",
    "home_sales_df.show(5)"
   ]
  },
  {
   "cell_type": "code",
   "execution_count": 66,
   "metadata": {
    "id": "RoljcJ7WPpnm"
   },
   "outputs": [],
   "source": [
    "# 2. Create a temporary view of the DataFrame.\n",
    "home_sales_df.createOrReplaceTempView(\"home_sales\")"
   ]
  },
  {
   "cell_type": "code",
   "execution_count": 67,
   "metadata": {},
   "outputs": [
    {
     "name": "stdout",
     "output_type": "stream",
     "text": [
      "root\n",
      " |-- id: string (nullable = true)\n",
      " |-- date: string (nullable = true)\n",
      " |-- date_built: string (nullable = true)\n",
      " |-- price: string (nullable = true)\n",
      " |-- bedrooms: string (nullable = true)\n",
      " |-- bathrooms: string (nullable = true)\n",
      " |-- sqft_living: string (nullable = true)\n",
      " |-- sqft_lot: string (nullable = true)\n",
      " |-- floors: string (nullable = true)\n",
      " |-- waterfront: string (nullable = true)\n",
      " |-- view: string (nullable = true)\n",
      "\n"
     ]
    }
   ],
   "source": [
    "# 2b. Check out the data types of the DataFrame. \n",
    "home_sales_df.printSchema()"
   ]
  },
  {
   "cell_type": "code",
   "execution_count": 68,
   "metadata": {
    "colab": {
     "base_uri": "https://localhost:8080/"
    },
    "id": "L6fkwOeOmqvq",
    "outputId": "bdded620-79c4-488d-c7a5-91c6799c419e"
   },
   "outputs": [
    {
     "name": "stdout",
     "output_type": "stream",
     "text": [
      "+--------+----+---------+\n",
      "|bedrooms|year|avg_price|\n",
      "+--------+----+---------+\n",
      "|       4|2019| 300263.7|\n",
      "|       4|2020|298353.78|\n",
      "|       4|2021|301819.44|\n",
      "|       4|2022|296363.88|\n",
      "+--------+----+---------+\n",
      "\n"
     ]
    }
   ],
   "source": [
    "# 3. What is the average price for a four bedroom house sold in each year rounded to two decimal places?\n",
    "result = spark.sql(\"\"\"\n",
    "    SELECT bedrooms, YEAR(CAST(date AS DATE)) AS year, ROUND(AVG(price), 2) AS avg_price\n",
    "    FROM home_sales\n",
    "    WHERE bedrooms = '4' \n",
    "    GROUP BY bedrooms, YEAR(CAST(date AS DATE))\n",
    "    ORDER BY bedrooms, YEAR(CAST(date AS DATE)) \n",
    "\"\"\")\n",
    "\n",
    "# Show the result\n",
    "result.show()"
   ]
  },
  {
   "cell_type": "code",
   "execution_count": 69,
   "metadata": {
    "colab": {
     "base_uri": "https://localhost:8080/"
    },
    "id": "l8p_tUS8h8it",
    "outputId": "65806e5f-6262-41c0-ff65-5107464e5c4d"
   },
   "outputs": [
    {
     "name": "stdout",
     "output_type": "stream",
     "text": [
      "+----------+---------+\n",
      "|date_built|avg_price|\n",
      "+----------+---------+\n",
      "|      2010|292859.62|\n",
      "|      2011|291117.47|\n",
      "|      2012|293683.19|\n",
      "|      2013|295962.27|\n",
      "|      2014|290852.27|\n",
      "|      2015| 288770.3|\n",
      "|      2016|290555.07|\n",
      "|      2017|292676.79|\n",
      "+----------+---------+\n",
      "\n"
     ]
    }
   ],
   "source": [
    "# 4. What is the average price of a home for each year the home was built that have 3 bedrooms and 3 bathrooms rounded to two decimal places?\n",
    "result = spark.sql(\"\"\"\n",
    "    SELECT date_built, ROUND(AVG(CAST(price AS DOUBLE)), 2) AS avg_price\n",
    "    FROM home_sales\n",
    "    WHERE bedrooms = '3' AND bathrooms = '3' \n",
    "    GROUP BY date_built\n",
    "    ORDER BY date_built\n",
    "\"\"\")\n",
    "\n",
    "# Show the result\n",
    "result.show()"
   ]
  },
  {
   "cell_type": "code",
   "execution_count": 70,
   "metadata": {
    "colab": {
     "base_uri": "https://localhost:8080/"
    },
    "id": "Y-Eytz64liDU",
    "outputId": "17119810-56ad-40c3-de5e-c3db57e43bcc"
   },
   "outputs": [
    {
     "name": "stdout",
     "output_type": "stream",
     "text": [
      "+----------+---------+\n",
      "|date_built|avg_price|\n",
      "+----------+---------+\n",
      "|      2010|285010.22|\n",
      "|      2011|276553.81|\n",
      "|      2012|307539.97|\n",
      "|      2013|303676.79|\n",
      "|      2014|298264.72|\n",
      "|      2015|297609.97|\n",
      "|      2016| 293965.1|\n",
      "|      2017|280317.58|\n",
      "+----------+---------+\n",
      "\n"
     ]
    }
   ],
   "source": [
    "#  5. What is the average price of a home for each year built that have 3 bedrooms, 3 bathrooms, with two floors,\n",
    "# and are greater than or equal to 2,000 square feet rounded to two decimal places?\n",
    "\n",
    "result = spark.sql(\"\"\"\n",
    "    SELECT date_built, ROUND(AVG(CAST(price AS DOUBLE)), 2) AS avg_price\n",
    "    FROM home_sales\n",
    "    WHERE bedrooms = '3'\n",
    "      AND bathrooms = '3'\n",
    "      AND floors = '2' \n",
    "      AND sqft_living >= 2000\n",
    "    GROUP BY date_built\n",
    "    ORDER BY date_built\n",
    "\"\"\")\n",
    "\n",
    "# Show the result\n",
    "result.show()"
   ]
  },
  {
   "cell_type": "code",
   "execution_count": 71,
   "metadata": {
    "colab": {
     "base_uri": "https://localhost:8080/"
    },
    "id": "GUrfgOX1pCRd",
    "outputId": "17c25774-855e-4290-a4bd-a04902bdc13a"
   },
   "outputs": [
    {
     "name": "stdout",
     "output_type": "stream",
     "text": [
      "+----+---------+\n",
      "|view|avg_price|\n",
      "+----+---------+\n",
      "|  33|393973.32|\n",
      "|  37|394964.36|\n",
      "|   6|395655.38|\n",
      "|  42| 396964.5|\n",
      "|   2|397389.25|\n",
      "|  29|397771.65|\n",
      "|  30| 397862.0|\n",
      "|  38|398418.37|\n",
      "|  47| 398447.5|\n",
      "|  17|398474.49|\n",
      "|  14|398570.03|\n",
      "|   8|398592.71|\n",
      "|   3| 398867.6|\n",
      "|  13|398917.98|\n",
      "|  19|398953.17|\n",
      "|  39|399234.22|\n",
      "|  18|399332.91|\n",
      "|  32|399367.72|\n",
      "|  20|399522.81|\n",
      "|  27|399537.66|\n",
      "+----+---------+\n",
      "only showing top 20 rows\n",
      "\n",
      "--- 0.15238499641418457 seconds ---\n"
     ]
    }
   ],
   "source": [
    "# 6. What is the \"view\" rating for the average price of a home, rounded to two decimal places, where the homes are greater than\n",
    "# or equal to $350,000? Although this is a small dataset, determine the run time for this query.\n",
    "start_time = time.time()\n",
    "result = spark.sql(\"\"\"\n",
    "    SELECT view, ROUND(AVG(CAST(price AS DOUBLE)), 2) AS avg_price\n",
    "    FROM home_sales\n",
    "    WHERE price >= '350000' \n",
    "    GROUP BY view\n",
    "    ORDER BY avg_price \n",
    "\"\"\")\n",
    "\n",
    "# Show the result\n",
    "result.show()\n",
    "\n",
    "# Print the runtime\n",
    "print(\"--- %s seconds ---\" % (time.time() - start_time))"
   ]
  },
  {
   "cell_type": "code",
   "execution_count": 72,
   "metadata": {
    "colab": {
     "base_uri": "https://localhost:8080/"
    },
    "id": "KAhk3ZD2tFy8",
    "outputId": "0a8f132d-40a8-4bd4-b5f2-2847e98427f5"
   },
   "outputs": [
    {
     "data": {
      "text/plain": [
       "DataFrame[]"
      ]
     },
     "execution_count": 72,
     "metadata": {},
     "output_type": "execute_result"
    }
   ],
   "source": [
    "# 7. Cache the the temporary table home_sales.\n",
    "spark.sql(\"cache table home_sales\")"
   ]
  },
  {
   "cell_type": "code",
   "execution_count": 73,
   "metadata": {
    "colab": {
     "base_uri": "https://localhost:8080/"
    },
    "id": "4opVhbvxtL-i",
    "outputId": "38ec8487-795f-4550-b50c-fcc6f2b7c769"
   },
   "outputs": [
    {
     "data": {
      "text/plain": [
       "True"
      ]
     },
     "execution_count": 73,
     "metadata": {},
     "output_type": "execute_result"
    }
   ],
   "source": [
    "# 8. Check if the table is cached.\n",
    "spark.catalog.isCached('home_sales')"
   ]
  },
  {
   "cell_type": "code",
   "execution_count": 74,
   "metadata": {},
   "outputs": [
    {
     "name": "stdout",
     "output_type": "stream",
     "text": [
      "+----+---------+\n",
      "|view|avg_price|\n",
      "+----+---------+\n",
      "|  33|393973.32|\n",
      "|  37|394964.36|\n",
      "|   6|395655.38|\n",
      "|  42| 396964.5|\n",
      "|   2|397389.25|\n",
      "|  29|397771.65|\n",
      "|  30| 397862.0|\n",
      "|  38|398418.37|\n",
      "|  47| 398447.5|\n",
      "|  17|398474.49|\n",
      "|  14|398570.03|\n",
      "|   8|398592.71|\n",
      "|   3| 398867.6|\n",
      "|  13|398917.98|\n",
      "|  19|398953.17|\n",
      "|  39|399234.22|\n",
      "|  18|399332.91|\n",
      "|  32|399367.72|\n",
      "|  20|399522.81|\n",
      "|  27|399537.66|\n",
      "+----+---------+\n",
      "only showing top 20 rows\n",
      "\n",
      "--- 0.1324610710144043 seconds ---\n"
     ]
    }
   ],
   "source": [
    "# 9. Using the cached data, run the query that filters out the view ratings with average price \n",
    "#  greater than or equal to $350,000. Determine the runtime and compare it to uncached runtime.\n",
    "\n",
    "# Start the timer\n",
    "start_time = time.time()\n",
    "\n",
    "# Query on the cached data\n",
    "result_cached = spark.sql(\"\"\"\n",
    "    SELECT view, ROUND(AVG(CAST(price AS DOUBLE)), 2) AS avg_price\n",
    "    FROM home_sales\n",
    "    WHERE price >= '350000'\n",
    "    GROUP BY view\n",
    "    ORDER BY avg_price\n",
    "\"\"\")\n",
    "\n",
    "# Show the result\n",
    "result_cached.show()\n",
    "\n",
    "# Print the runtime\n",
    "print(\"--- %s seconds ---\" % (time.time() - start_time))\n"
   ]
  },
  {
   "cell_type": "code",
   "execution_count": 75,
   "metadata": {},
   "outputs": [
    {
     "name": "stderr",
     "output_type": "stream",
     "text": [
      "                                                                                \r"
     ]
    }
   ],
   "source": [
    "# 10. Partition by the \"date_built\" field on the formatted parquet home sales data \n",
    "home_sales_df.write.partitionBy(\"date_built\").mode(\"overwrite\").parquet(\"date_built_partitioned\")"
   ]
  },
  {
   "cell_type": "code",
   "execution_count": 76,
   "metadata": {
    "id": "AZ7BgY61sRqY"
   },
   "outputs": [],
   "source": [
    "# 11. Read the formatted parquet data.\n",
    "home_sales_df=spark.read.parquet('date_built_partitioned')"
   ]
  },
  {
   "cell_type": "code",
   "execution_count": 77,
   "metadata": {
    "id": "J6MJkHfvVcvh"
   },
   "outputs": [],
   "source": [
    "# 12. Create a temporary table for the parquet data.\n",
    "home_sales_df.createOrReplaceTempView(\"date_built_partitioned\")"
   ]
  },
  {
   "cell_type": "code",
   "execution_count": 78,
   "metadata": {
    "colab": {
     "base_uri": "https://localhost:8080/"
    },
    "id": "G_Vhb52rU1Sn",
    "outputId": "a0b8d0c4-55ed-4c6c-bfd8-4c8c5334838e"
   },
   "outputs": [
    {
     "name": "stdout",
     "output_type": "stream",
     "text": [
      "+----+---------+\n",
      "|view|avg_price|\n",
      "+----+---------+\n",
      "|  33|393973.32|\n",
      "|  37|394964.36|\n",
      "|   6|395655.38|\n",
      "|  42| 396964.5|\n",
      "|   2|397389.25|\n",
      "|  29|397771.65|\n",
      "|  30| 397862.0|\n",
      "|  38|398418.37|\n",
      "|  47| 398447.5|\n",
      "|  17|398474.49|\n",
      "|  14|398570.03|\n",
      "|   8|398592.71|\n",
      "|   3| 398867.6|\n",
      "|  13|398917.98|\n",
      "|  19|398953.17|\n",
      "|  39|399234.22|\n",
      "|  18|399332.91|\n",
      "|  32|399367.72|\n",
      "|  20|399522.81|\n",
      "|  27|399537.66|\n",
      "+----+---------+\n",
      "only showing top 20 rows\n",
      "\n",
      "--- 0.49951887130737305 seconds ---\n"
     ]
    }
   ],
   "source": [
    "# 13. Run the query that filters out the view ratings with average price of greater than or eqaul to $350,000 \n",
    "# with the parquet DataFrame. Round your average to two decimal places. \n",
    "# Determine the runtime and compare it to the cached version. \n",
    "\n",
    "# Start the timer\n",
    "start_time = time.time()\n",
    "\n",
    "# Query on the cached data\n",
    "result_parquet = spark.sql(\"\"\"\n",
    "    SELECT view, ROUND(AVG(CAST(price AS DOUBLE)), 2) AS avg_price\n",
    "    FROM date_built_partitioned\n",
    "    WHERE price >= '350000'\n",
    "    GROUP BY view\n",
    "    ORDER BY avg_price\n",
    "\"\"\")\n",
    "\n",
    "# Show the result\n",
    "result_parquet.show()\n",
    "\n",
    "# Print the runtime\n",
    "print(\"--- %s seconds ---\" % (time.time() - start_time))"
   ]
  },
  {
   "cell_type": "code",
   "execution_count": 79,
   "metadata": {
    "colab": {
     "base_uri": "https://localhost:8080/"
    },
    "id": "hjjYzQGjtbq8",
    "outputId": "830549fd-bb41-451b-9183-5ebf6e3e470b"
   },
   "outputs": [
    {
     "data": {
      "text/plain": [
       "DataFrame[]"
      ]
     },
     "execution_count": 79,
     "metadata": {},
     "output_type": "execute_result"
    }
   ],
   "source": [
    "# 14. Uncache the home_sales temporary table.\n",
    "spark.sql(\"uncache table home_sales\")"
   ]
  },
  {
   "cell_type": "code",
   "execution_count": 80,
   "metadata": {
    "colab": {
     "base_uri": "https://localhost:8080/"
    },
    "id": "Sy9NBvO7tlmm",
    "outputId": "be73e0e3-5e85-4794-aad9-025fb6fa84a7"
   },
   "outputs": [
    {
     "data": {
      "text/plain": [
       "False"
      ]
     },
     "execution_count": 80,
     "metadata": {},
     "output_type": "execute_result"
    }
   ],
   "source": [
    "# 15. Check if the home_sales is no longer cached\n",
    "spark.catalog.isCached('home_sales')"
   ]
  }
 ],
 "metadata": {
  "colab": {
   "collapsed_sections": [],
   "name": "Copy of Home_Sales_solution.ipynb",
   "provenance": []
  },
  "kernelspec": {
   "display_name": "Python 3 (ipykernel)",
   "language": "python",
   "name": "python3"
  },
  "language_info": {
   "codemirror_mode": {
    "name": "ipython",
    "version": 3
   },
   "file_extension": ".py",
   "mimetype": "text/x-python",
   "name": "python",
   "nbconvert_exporter": "python",
   "pygments_lexer": "ipython3",
   "version": "3.10.12"
  },
  "nteract": {
   "version": "0.28.0"
  }
 },
 "nbformat": 4,
 "nbformat_minor": 1
}
